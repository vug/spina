{
 "cells": [
  {
   "cell_type": "code",
   "execution_count": 1,
   "metadata": {
    "collapsed": true
   },
   "outputs": [],
   "source": [
    "import numpy as np\n",
    "import pandas as pd\n",
    "from scipy import spatial\n",
    "import matplotlib.pyplot as plt\n",
    "from ipywidgets import interact\n",
    "%matplotlib inline"
   ]
  },
  {
   "cell_type": "markdown",
   "metadata": {},
   "source": [
    "## Lennard-Jones\n",
    "\n",
    "Use proper vectors (r is a vector as function arguments and force should have direction)\n",
    "\n",
    "$$ V(r) = 4 \\varepsilon \\left[\\left( \\frac{\\sigma}{r} \\right)^{12} - \\left( \\frac{\\sigma}{r} \\right)^{6} \\right] $$\n",
    "\n",
    "$r^{-12}$ term is repulsion due to Pauli Exclusion Principle and $r^{-6}$ term is attraction due to dipole-dipole interaction (van der Waals) between non-polar atoms.\n",
    "\n",
    "$V(\\sigma)=0$. and $V(2^{1/6} \\sigma) = V_\\text{min} = -\\varepsilon$\n",
    "\n",
    "$$ F(r) = -\\nabla V = \\frac{24 \\varepsilon}{\\sigma} \\left[2 \\left(\\frac{\\sigma}{r} \\right)^{13} - \\left( \\frac{\\sigma}{r} \\right)^{7} \\right] $$\n",
    "\n",
    "For Argon the values are\n",
    "\n",
    "- $m = 6.69 \\times 10^{-26}$ kg\n",
    "- $\\varepsilon = 1.65 \\times 10^{-21}$ J\n",
    "- $\\sigma = 3.4 \\times 10^{-10}$ m\n",
    "\n",
    "We'll choose all units as 1.0. $m = 1, \\sigma=1, \\varepsilon=1$. Which gives a time unit\n",
    "\n",
    "$$\\tau = \\sqrt{\\frac{m \\sigma^2}{\\varepsilon}} = 2.7 \\times 10^{-12} \\,\\text{s}$$\n",
    "\n",
    "This means a time duration $\\Delta t = 1.0$ correspondes to 2.7 picoseconds in a simulation."
   ]
  },
  {
   "cell_type": "code",
   "execution_count": 4,
   "metadata": {
    "collapsed": false
   },
   "outputs": [
    {
     "data": {
      "image/png": "[encoded data removed]",
      "text/plain": [
       "<matplotlib.figure.Figure at 0x2e0c2331da0>"
      ]
     },
     "metadata": {},
     "output_type": "display_data"
    }
   ],
   "source": [
    "def lennard_jones_potential(r, epsion=1.0, sigma=1.0):\n",
    "    sigma12 = np.power(sigma, 12.0) \n",
    "    sigma6 = np.power(sigma, 6.0)\n",
    "    return 4.0 * epsion * (sigma12 * np.power(r, -12.) - sigma6 * np.power(r, -6.))\n",
    "\n",
    "def lennard_jones_force(r, epsilon=1.0, sigma=1.0):\n",
    "    sigma13 = np.power(sigma, 12.0) \n",
    "    sigma7 = np.power(sigma, 6.0)\n",
    "    return 24.0 * epsilon / sigma * (2.0 * sigma13 * np.power(r, -12.) - sigma7 * np.power(r, -6.)) \n",
    "\n",
    "def plot_lj_pot(r, epsilon=1.0, sigma=1.0):\n",
    "    pot = lennard_jones_potential(r, epsilon, sigma)\n",
    "    plt.plot(r, pot, lw=2, label='LJ potential')\n",
    "\n",
    "def plot_lj_force(r, epsilon=1.0, sigma=1.0):\n",
    "    force = lennard_jones_force(r, epsilon, sigma)\n",
    "    plt.plot(r, force, lw=2, label='LJ force')\n",
    "\n",
    "r = np.linspace(0.5, 2.5, 100)\n",
    "def plot_lj(epsilon=1.0, sigma=1.0):\n",
    "    fig = plt.figure(figsize=(10, 6))\n",
    "    plot_lj_pot(r, epsilon=epsilon, sigma=sigma)\n",
    "    plot_lj_force(r, epsilon=epsilon, sigma=sigma)\n",
    "    plt.ylim([-4.0, 4.0])\n",
    "    plt.axvline(sigma, linestyle=':', color='blue', label='V = 0')\n",
    "    plt.axvline(np.power(2.0, 1./6.) * sigma, linestyle=':', color='red', label='$r^*$')\n",
    "    plt.axhline(-epsilon, linestyle=':', color='orange', label='$V_\\mathrm{min}$')\n",
    "    plt.legend()\n",
    "    plt.title('')\n",
    "    plt.grid()    \n",
    "    \n",
    "# plot_lj_pot(r, 1.0, 1.0)\n",
    "interact(plot_lj, epsilon=(0.1, 2.0), sigma=(0.1, 2.0));"
   ]
  },
  {
   "cell_type": "code",
   "execution_count": null,
   "metadata": {
    "collapsed": true
   },
   "outputs": [],
   "source": []
  },
  {
   "cell_type": "code",
   "execution_count": null,
   "metadata": {
    "collapsed": true
   },
   "outputs": [],
   "source": []
  },
  {
   "cell_type": "code",
   "execution_count": null,
   "metadata": {
    "collapsed": true
   },
   "outputs": [],
   "source": []
  },
  {
   "cell_type": "code",
   "execution_count": null,
   "metadata": {
    "collapsed": true
   },
   "outputs": [],
   "source": []
  },
  {
   "cell_type": "code",
   "execution_count": null,
   "metadata": {
    "collapsed": true
   },
   "outputs": [],
   "source": []
  },
  {
   "cell_type": "code",
   "execution_count": null,
   "metadata": {
    "collapsed": true
   },
   "outputs": [],
   "source": []
  },
  {
   "cell_type": "code",
   "execution_count": null,
   "metadata": {
    "collapsed": true
   },
   "outputs": [],
   "source": []
  },
  {
   "cell_type": "code",
   "execution_count": null,
   "metadata": {
    "collapsed": true
   },
   "outputs": [],
   "source": []
  },
  {
   "cell_type": "code",
   "execution_count": null,
   "metadata": {
    "collapsed": true
   },
   "outputs": [],
   "source": []
  },
  {
   "cell_type": "code",
   "execution_count": null,
   "metadata": {
    "collapsed": true
   },
   "outputs": [],
   "source": []
  },
  {
   "cell_type": "code",
   "execution_count": null,
   "metadata": {
    "collapsed": true
   },
   "outputs": [],
   "source": []
  },
  {
   "cell_type": "code",
   "execution_count": null,
   "metadata": {
    "collapsed": true
   },
   "outputs": [],
   "source": []
  }
 ],
 "metadata": {
  "kernelspec": {
   "display_name": "Python (root)",
   "language": "python",
   "name": "root"
  },
  "language_info": {
   "codemirror_mode": {
    "name": "ipython",
    "version": 3
   },
   "file_extension": ".py",
   "mimetype": "text/x-python",
   "name": "python",
   "nbconvert_exporter": "python",
   "pygments_lexer": "ipython3",
   "version": "3.5.1"
  }
 },
 "nbformat": 4,
 "nbformat_minor": 0
}
